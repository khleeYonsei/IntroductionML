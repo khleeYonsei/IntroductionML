{
 "cells": [
  {
   "cell_type": "markdown",
   "metadata": {},
   "source": [
    "**Chapter 2 Supervised Learning**\n",
    "\n",
    "\n",
    "**2.3.3 Linear Model**"
   ]
  },
  {
   "cell_type": "code",
   "execution_count": 1,
   "metadata": {},
   "outputs": [
    {
     "name": "stderr",
     "output_type": "stream",
     "text": [
      "C:\\Users\\kh_le\\Anaconda3\\lib\\site-packages\\sklearn\\externals\\six.py:31: FutureWarning: The module is deprecated in version 0.21 and will be removed in version 0.23 since we've dropped support for Python 2.7. Please rely on the official version of six (https://pypi.org/project/six/).\n",
      "  \"(https://pypi.org/project/six/).\", FutureWarning)\n",
      "C:\\Users\\kh_le\\Anaconda3\\lib\\site-packages\\sklearn\\externals\\joblib\\__init__.py:15: FutureWarning: sklearn.externals.joblib is deprecated in 0.21 and will be removed in 0.23. Please import this functionality directly from joblib, which can be installed with: pip install joblib. If this warning is raised when loading pickled models, you may need to re-serialize those models with scikit-learn 0.21+.\n",
      "  warnings.warn(msg, category=FutureWarning)\n"
     ]
    }
   ],
   "source": [
    "import mglearn\n",
    "import pandas as pd\n",
    "import numpy as np\n",
    "import matplotlib.pyplot as plt"
   ]
  },
  {
   "cell_type": "code",
   "execution_count": 2,
   "metadata": {},
   "outputs": [
    {
     "name": "stdout",
     "output_type": "stream",
     "text": [
      "w[0]: 0.393906  b: -0.031804\n"
     ]
    },
    {
     "data": {
      "image/png": "[encoded data removed]",
      "text/plain": [
       "<Figure size 576x576 with 1 Axes>"
      ]
     },
     "metadata": {
      "needs_background": "light"
     },
     "output_type": "display_data"
    }
   ],
   "source": [
    "mglearn.plots.plot_linear_regression_wave()"
   ]
  },
  {
   "cell_type": "markdown",
   "metadata": {},
   "source": [
    "회귀를 위한 선형 모델은 특성이 하나일 때 직선, 두 개일 때는 평면이 되며, 더 높은 차원에서는 초평면(hyperplane)이 되는 회귀 모델의 특징으로 가지고 있다. "
   ]
  },
  {
   "cell_type": "markdown",
   "metadata": {},
   "source": [
    "- Linear regression"
   ]
  },
  {
   "cell_type": "code",
   "execution_count": 3,
   "metadata": {},
   "outputs": [
    {
     "name": "stdout",
     "output_type": "stream",
     "text": [
      "lr.coef_:[0.39390555]\n",
      "lr.intercept_:-0.031804343026759746\n"
     ]
    }
   ],
   "source": [
    "from sklearn.linear_model import LinearRegression\n",
    "from sklearn.model_selection import train_test_split\n",
    "\n",
    "X, y = mglearn.datasets.make_wave(n_samples=60)\n",
    "X_train, X_test, y_train, y_test = train_test_split(X, y, random_state=42)\n",
    "\n",
    "lr = LinearRegression().fit(X_train, y_train)\n",
    "\n",
    "print(\"lr.coef_:{}\".format(lr.coef_))\n",
    "print(\"lr.intercept_:{}\".format(lr.intercept_))"
   ]
  },
  {
   "cell_type": "code",
   "execution_count": 4,
   "metadata": {},
   "outputs": [
    {
     "name": "stdout",
     "output_type": "stream",
     "text": [
      "Train Set Score: 0.67\n",
      "Test Set Score: 0.66\n"
     ]
    }
   ],
   "source": [
    "print(\"Train Set Score: {:.2f}\".format(lr.score(X_train, y_train)))\n",
    "print(\"Test Set Score: {:.2f}\".format(lr.score(X_test, y_test)))"
   ]
  },
  {
   "cell_type": "markdown",
   "metadata": {},
   "source": [
    "R 값이 0.66인 것은 그리 좋은 결과는 아니다. 하지만 훈련세트와 테스트 세트의 점수가 매우 비슷하다.\n",
    "\n",
    "\n",
    "이는 **과적합**이 아니라 **과소적합(Underfitting)** 으로 간주할 수 있다.\n",
    "\n",
    "\n",
    "1차원 데이터셋에서는 모델이 단순하므로 과대적합을 걱정할 필요가 없다.\n",
    "\n",
    "\n",
    "그러나 특성이 많은 고차원 데이터셋에서는 선형 모델의 성능이 매우 높아져서 과적합이될 가능성이 높다. "
   ]
  },
  {
   "cell_type": "code",
   "execution_count": 14,
   "metadata": {},
   "outputs": [],
   "source": [
    "X, y = mglearn.datasets.load_extended_boston()\n",
    "X_train, X_test, y_train, y_test = train_test_split(X, y, random_state=0)\n",
    "lr = LinearRegression().fit(X_train, y_train)"
   ]
  },
  {
   "cell_type": "code",
   "execution_count": 15,
   "metadata": {},
   "outputs": [
    {
     "name": "stdout",
     "output_type": "stream",
     "text": [
      "Train Set Score: 0.95\n",
      "Test Set Score: 0.61\n"
     ]
    }
   ],
   "source": [
    "print(\"Train Set Score: {:.2f}\".format(lr.score(X_train, y_train)))\n",
    "print(\"Test Set Score: {:.2f}\".format(lr.score(X_test, y_test)))"
   ]
  },
  {
   "cell_type": "markdown",
   "metadata": {},
   "source": [
    "- Lidge Regression\n",
    "\n",
    "릿지 회귀에서는 가중치 선택이 훈련 데이터를 잘 예측하는 것만이 아니라, 추가 제약 조건을 만족시키기 위한 목적도 있다.\n",
    "\n",
    "가중치의 절댓값을 가능한 작게 만드는 것. 다시 말해서 w의 모든 원소가 0에 가깝게 되길 원하는 모델이다. 직관적으로 생각하면 이는 모든 특성이 출력에 주는 영향을 최소한응로 만드는 것(기울기를 작게 만듦) 이런 제약을 규제(Regularization)이라고 한다. 규제란 과대적합이 되지 않도록 모델을 강제로 제한한다는 것이다. 리싲 회귀에서 사용되는 규제 방식을 **L2** 규제라고 한다.\n",
    "\n",
    "cf) 수학적으로 릿지는 계수의 L2 norm의 제곱을 패널티로 적용한다. "
   ]
  },
  {
   "cell_type": "code",
   "execution_count": 7,
   "metadata": {},
   "outputs": [
    {
     "name": "stdout",
     "output_type": "stream",
     "text": [
      "Train set score: 0.89\n",
      "Test set score: 0.75\n"
     ]
    }
   ],
   "source": [
    "from sklearn.linear_model import Ridge\n",
    "\n",
    "ridge = Ridge().fit(X_train, y_train)\n",
    "print(\"Train set score: {:.2f}\".format(ridge.score(X_train, y_train)))\n",
    "print(\"Test set score: {:.2f}\".format(ridge.score(X_test, y_test)))"
   ]
  },
  {
   "cell_type": "markdown",
   "metadata": {},
   "source": [
    "Ridge는 모델을 단순하게(계수가 0에 가깝게) 해주고, 훈련 세트에 대한 성능 사이를 절충할 수 있는 방법을 제공한다.\n",
    "\n",
    "사용자는 alpha매개변수로 훈련 세트의 성능 대비 모델을 얼마나 단순화할지를 지정할 수 있다. 앞의 코드에서는 매개변수 alpha의 값이 1.0으로 설정되어 있는 것. \n",
    "\n",
    "단, 최적의 alpha값은 데이터셋에 달려있다. alpha값을 높이면 계수를 0에 더 가깝게(패널티의 효과가 커지고 = 가중치 감소) 만들어서 훈련 데이터 성능은 나빠지지만 일반화에 도움을 줄 수 있다. alpha 값을 줄이면, 계수에 대해 그만큼 제약이 풀리면서 LinearRegression으로 만든 모델과 거의 같게 된다."
   ]
  },
  {
   "cell_type": "code",
   "execution_count": 12,
   "metadata": {},
   "outputs": [
    {
     "name": "stdout",
     "output_type": "stream",
     "text": [
      "Train set score: 0.79\n",
      "Test set score: 0.64\n"
     ]
    }
   ],
   "source": [
    "ridge10 = Ridge(alpha=10).fit(X_train, y_train)\n",
    "print(\"Train set score: {:.2f}\".format(ridge10.score(X_train, y_train)))\n",
    "print(\"Test set score: {:.2f}\".format(ridge10.score(X_test, y_test)))"
   ]
  },
  {
   "cell_type": "code",
   "execution_count": 9,
   "metadata": {},
   "outputs": [
    {
     "name": "stdout",
     "output_type": "stream",
     "text": [
      "Train set score: 0.93\n",
      "Test set score: 0.77\n"
     ]
    }
   ],
   "source": [
    "ridge01 = Ridge(alpha=0.1).fit(X_train, y_train)\n",
    "print(\"Train set score: {:.2f}\".format(ridge01.score(X_train, y_train)))\n",
    "print(\"Test set score: {:.2f}\".format(ridge01.score(X_test, y_test)))"
   ]
  },
  {
   "cell_type": "markdown",
   "metadata": {},
   "source": [
    "다음 코드로, alpha값에 따라 모델의 coef_ 속성이 어떻게 달라지는지를 조사해보면 alpha 매개변수가 모델을 어떻게 변경시키는지 더 깊게 이해할 수 있다. 높은 alpha값은 제약이 더 많은 모델이므로 coef_의 절댓값 크기가 작을 것으로 예상할 수 있다."
   ]
  },
  {
   "cell_type": "code",
   "execution_count": 18,
   "metadata": {},
   "outputs": [
    {
     "data": {
      "text/plain": [
       "<matplotlib.legend.Legend at 0x27a0cc50548>"
      ]
     },
     "execution_count": 18,
     "metadata": {},
     "output_type": "execute_result"
    },
    {
     "data": {
      "image/png": "[encoded data removed]",
      "text/plain": [
       "<Figure size 432x288 with 1 Axes>"
      ]
     },
     "metadata": {
      "needs_background": "light"
     },
     "output_type": "display_data"
    }
   ],
   "source": [
    "plt.plot(ridge10.coef_, '^', label=\"Ridge alpha=10\")\n",
    "plt.plot(ridge.coef_, 's', label=\"Ridge alpha=1\")\n",
    "plt.plot(ridge01.coef_, 'v', label=\"Ridge alpha=0.1\")\n",
    "plt.plot(lr.coef_, 'o', label=\"LinearRegression\")\n",
    "plt.xlabel(\"Coefficient\")\n",
    "plt.ylabel(\"Coef_ Size\")\n",
    "plt.hlines(0, 0, len(lr.coef_)) # 지정 위치에 수직 수평선을 그리는 것\n",
    "plt.legend()"
   ]
  },
  {
   "cell_type": "markdown",
   "metadata": {},
   "source": [
    "규제의 효과를 이해하는 또 다른 방법은, alpha값을 고정하고 훈련 데이터의 크기를 변화시켜 보는 것. "
   ]
  },
  {
   "cell_type": "code",
   "execution_count": 22,
   "metadata": {},
   "outputs": [
    {
     "data": {
      "image/png": "[encoded data removed]",
      "text/plain": [
       "<Figure size 432x288 with 1 Axes>"
      ]
     },
     "metadata": {
      "needs_background": "light"
     },
     "output_type": "display_data"
    }
   ],
   "source": [
    "mglearn.plots.plot_ridge_n_samples()"
   ]
  },
  {
   "cell_type": "markdown",
   "metadata": {},
   "source": [
    "위의 그림은 보스턴 주택가격 데이터셋에 대한 릿지 회귀와 선형 회귀의 학습곡선이다.\n",
    "\n",
    "두 모델의 성능은 데이터가 많아질수록 좋아지고 마지막에는 선형회귀가 릿지 회귀를 따라잡았다. 이는 데이터가 충분히 많은 경우 규제 항은 덜 중요해져서 릿지 회귀와 선형 회귀의 성능이 같아질 수 있는 것. 데이터 셋의 크기가 커지면 과적합 방지에도 도움을 준다. "
   ]
  },
  {
   "cell_type": "markdown",
   "metadata": {},
   "source": [
    "- Lasso\n",
    "\n",
    "Lasso 또한, Ridge와 마찬가지로 계쑤를 얼마나 강하게 0으로 보낼지를 조절하는 alpha 매개 변수를 지원한다\n",
    "하지만 L1 노름을 사용하는 (절대값의 합) 점이 릿지 회귀와 다른 점이다. 또한, 계수를 완전한 0으로 만드는 점이 다른 점이다. \n",
    "이를 이용해서, feature selection을 할 수 있다. "
   ]
  },
  {
   "cell_type": "code",
   "execution_count": 24,
   "metadata": {},
   "outputs": [
    {
     "name": "stdout",
     "output_type": "stream",
     "text": [
      "Train Set Score: 0.29\n",
      "Test Set SCore: 0.21\n",
      "N Features: 4\n"
     ]
    }
   ],
   "source": [
    "from sklearn.linear_model import Lasso\n",
    "\n",
    "lasso = Lasso().fit(X_train, y_train)\n",
    "print(\"Train Set Score: {:.2f}\".format(lasso.score(X_train, y_train)))\n",
    "print(\"Test Set SCore: {:.2f}\".format(lasso.score(X_test, y_test)))\n",
    "print(\"N Features: {}\".format(np.sum(lasso.coef_ != 0 )))"
   ]
  },
  {
   "cell_type": "code",
   "execution_count": 25,
   "metadata": {},
   "outputs": [],
   "source": [
    "# max_iter: 반복 실행하는 최대 횟수\n",
    "# 위의 결과가 너무 좋지 못하므로, alpha 값을 조정하여 과소적합을 방지\n",
    "lasso001 = Lasso(alpha=0.01, max_iter=100000).fit(X_train, y_train)"
   ]
  },
  {
   "cell_type": "code",
   "execution_count": 27,
   "metadata": {},
   "outputs": [
    {
     "name": "stdout",
     "output_type": "stream",
     "text": [
      "Train Set Score: 0.90\n",
      "Test Set Score: 0.77\n",
      "N Features 33\n"
     ]
    }
   ],
   "source": [
    "print(\"Train Set Score: {:.2f}\".format(lasso001.score(X_train, y_train)))\n",
    "print(\"Test Set Score: {:.2f}\".format(lasso001.score(X_test, y_test)))\n",
    "print(\"N Features {}\".format(np.sum(lasso001.coef_ != 0)))      "
   ]
  },
  {
   "cell_type": "code",
   "execution_count": 28,
   "metadata": {},
   "outputs": [
    {
     "name": "stdout",
     "output_type": "stream",
     "text": [
      "Train Set Score: 0.95\n",
      "Test Set Score: 0.64\n",
      "N Features 96\n"
     ]
    }
   ],
   "source": [
    "# alpha를 너무 낮추면 과적합이 될 가능성이 높으며, Linear Regression과 흡사하게 된다. (규제가 작아지니까)\n",
    "\n",
    "lasso00001 = Lasso(alpha=0.0001, max_iter=100000).fit(X_train, y_train)\n",
    "print(\"Train Set Score: {:.2f}\".format(lasso00001.score(X_train, y_train)))\n",
    "print(\"Test Set Score: {:.2f}\".format(lasso00001.score(X_test, y_test)))\n",
    "print(\"N Features {}\".format(np.sum(lasso00001.coef_ != 0)))   "
   ]
  },
  {
   "cell_type": "code",
   "execution_count": 31,
   "metadata": {},
   "outputs": [
    {
     "data": {
      "text/plain": [
       "<matplotlib.legend.Legend at 0x27a0d67afc8>"
      ]
     },
     "execution_count": 31,
     "metadata": {},
     "output_type": "execute_result"
    },
    {
     "data": {
      "image/png": "[encoded data removed]",
      "text/plain": [
       "<Figure size 432x288 with 1 Axes>"
      ]
     },
     "metadata": {
      "needs_background": "light"
     },
     "output_type": "display_data"
    }
   ],
   "source": [
    "plt.plot(lasso.coef_, 's', label=\"Lasso alpha=1\")\n",
    "plt.plot(lasso001.coef_, '^', label=\"Lasso alpha=0.01\")\n",
    "plt.plot(lasso00001.coef_, 'v', label=\"Lasso alpha=0.0001\")\n",
    "plt.plot(ridge01.coef_, 'o', label=\"Ridge alpha=0.1\")\n",
    "plt.legend(ncol=2, loc=(0, 1.05))"
   ]
  }
 ],
 "metadata": {
  "kernelspec": {
   "display_name": "Python 3",
   "language": "python",
   "name": "python3"
  },
  "language_info": {
   "codemirror_mode": {
    "name": "ipython",
    "version": 3
   },
   "file_extension": ".py",
   "mimetype": "text/x-python",
   "name": "python",
   "nbconvert_exporter": "python",
   "pygments_lexer": "ipython3",
   "version": "3.7.6"
  }
 },
 "nbformat": 4,
 "nbformat_minor": 4
}
