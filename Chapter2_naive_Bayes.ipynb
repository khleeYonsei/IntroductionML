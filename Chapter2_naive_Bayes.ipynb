{
 "cells": [
  {
   "cell_type": "markdown",
   "metadata": {},
   "source": [
    "**Import Packages**"
   ]
  },
  {
   "cell_type": "markdown",
   "metadata": {},
   "source": [
    "나이브베이즈 분류기가 효과적인 이유는, 각 특성을 개별로 취급해 파라미터를 학습하고 각 특성에서 클래스별 통계를 단순히 취합하기 때문.\n",
    "\n",
    "- GaussianNM: 연속적인 어떤 데이터에도 적용 가능\n",
    "- BernoulliNM: 이진데이터를에 활용\n",
    "- MultinomialNM: 카운드 데이터(특성이 어떤 것을 헤아린 정수 카운트, 예를들어 문장에 나타난 단어의 횟수) 에 적용"
   ]
  },
  {
   "cell_type": "code",
   "execution_count": 1,
   "metadata": {},
   "outputs": [],
   "source": [
    "import numpy as np\n",
    "\n",
    "X = np.array([[0, 1, 0, 1],\n",
    "             [1, 0, 1, 1],\n",
    "             [0, 0, 0, 1],\n",
    "             [1, 0, 1, 0]])\n",
    "\n",
    "y = np.array([0, 1, 0, 1])"
   ]
  },
  {
   "cell_type": "code",
   "execution_count": 3,
   "metadata": {},
   "outputs": [
    {
     "name": "stdout",
     "output_type": "stream",
     "text": [
      "특성 카운트: {0: array([0, 1, 0, 2]), 1: array([2, 0, 2, 1])}\n"
     ]
    }
   ],
   "source": [
    "counts = {}\n",
    "for label in np.unique(y):\n",
    "    # 클래스마다 반복\n",
    "    # 특성마다 1이 나타난 횟수를 센다\n",
    "    counts[label] = X[y == label].sum(axis=0)\n",
    "\n",
    "print(\"특성 카운트: {}\".format(counts))"
   ]
  },
  {
   "cell_type": "markdown",
   "metadata": {},
   "source": [
    "장단점과 매개변수\n",
    "\n",
    "1. MultinominalNB와 BernoulliNB는 모델의 복잡도를 조절하는 alpha 매개변수 하나를 가지고 있다. alpha가 주어지면 알고리즘이 모든 특성에 양의 값을 가진 가상의 데이터 포인트를 alpha 개수 만큼 추가한다.\n",
    "1. 이는 통계 데이터를 완만히 만들어준다. alpha가 크면 더 완만해지고 모델의 복잡도는 낮아진다.\n",
    "1. alpha에 따른 알고리즘 성능 변동은 비교적 크지 않아서, alpha값이 성능 향상에 크게 기여하지 않는다.\n",
    "1. GaussianNB는 대부분 매우 고차원 데이터셋에 사용하고 다른 두 나이브 베이즈 모델은 텍스트 같은 희소한 데이터를 카운트하는데 사용.\n",
    "1. MultinomialNB는 보통 0이 아닌 특성이 비교적 많은 데이터셋에서 BernoulliNB보다 성능이 높다.\n",
    "1. 나이브 베이즈 모델과 선형 모델의 장단점은 비슷하다.\n",
    "1. 훈련과 예측 속도가 빠르며 훈련 과정을 이해하기 쉽다. 희소한 고차원 데이터에서 잘 작동하며 비교적 매개변수에 민감하지 않다. 선형 모델로는 학습시간이 너무 오래 걸리는 매우 큰 데이터셋에서는 나이브 베이즈 모델을 시도해볼만하며 종종 사용."
   ]
  }
 ],
 "metadata": {
  "kernelspec": {
   "display_name": "Python 3",
   "language": "python",
   "name": "python3"
  },
  "language_info": {
   "codemirror_mode": {
    "name": "ipython",
    "version": 3
   },
   "file_extension": ".py",
   "mimetype": "text/x-python",
   "name": "python",
   "nbconvert_exporter": "python",
   "pygments_lexer": "ipython3",
   "version": "3.7.6"
  }
 },
 "nbformat": 4,
 "nbformat_minor": 4
}
